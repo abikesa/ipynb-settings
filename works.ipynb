(nonself)=  
# Nonself, 🌊  

<style>
/* ╭━━━☆━━━╮  FLOAT FRAMES (Figure / Seealso) */
.float-frame {
    border: 1px solid #ccc;
    background-color: #f9f9f9;
    position: relative;
    padding: 10px 14px;
    margin: 15px;
    font-family: sans-serif;
    font-size: 14px;
    line-height: 1.5;
}

/* Floated figure (image/code block) */
.float-frame.figure-style {
    float: right;
    width: 35%;
    text-align: center;
}

/* Floated seealso (text-only callout) */
.float-frame.seealso-style {
    float: right;
    width: 45%;
    max-width: 400px;
    min-width: 200px;
    text-align: left;
    white-space: normal;
    box-shadow: 0 2px 4px rgba(0,0,0,0.1);
}

/* Responsive override */
@media (max-width: 768px) {
    .float-frame {
        float: none !important;
        display: block;
        width: 95vw !important;
        max-width: 95vw !important;
        margin: 10px auto;
    }
}

/* ╭━━━☆━━━╮  BLOCKQUOTES */
blockquote {
    border-left: 2px solid #999;
    padding-left: 1em;
    margin-left: 0;
    margin-right: 0;
    color: #444;
    font-style: italic;
    background: none;
}

blockquote a {
    text-decoration: none;
    font-style: normal;
    color: #333;
    border-bottom: 1px dotted #aaa;
}

blockquote a:hover {
    color: #000;
    border-bottom: 1px solid #555;
}

/* ╭━━━☆━━━╮  COLLAPSIBLE <details> BLOCKS */
.custom-details summary {
    list-style: none;
    cursor: pointer;
    font-weight: normal;
    display: inline-block;
    padding: 5px 15px;
    border: 2px dotted black;
    border-radius: 20px;
    text-align: center;
    transition: color 0.3s ease-in-out;
}

.custom-details summary:hover {
    color: lightgray;
}

.custom-details summary::-webkit-details-marker {
    display: none;
}

/* ╭━━━☆━━━╮  NESTED QUOTES INSIDE DETAILS */
.quote-content {
    border-left: 4px solid #ccc;
    padding-left: 10px;
    color: #555;
    font-style: italic;
    margin-top: 15px;
}

.quote-content details {
    margin-top: 10px;
}

.quote-content summary {
    font-weight: bold;
    cursor: pointer;
}
</style>
<details class="custom-details">
  <summary>+ Expand</summary>

  <iframe src="pdfs/ecosystem-nature.pdf" width="100%" height="1000px" style="border:none"></iframe>

  <blockquote class="quote-content">
    <details>
      <summary>Analysis</summary>
      <p>In designing the scenery and costumes...</p>
    </details>
    <p>-- <a href="https://www.gutenberg.org/cache/epub/887/pg887-images.html#page221">The Truth of Masks 🎭</a></p>
  </blockquote>
</details>
<script>
  document.addEventListener("DOMContentLoaded", function() {
    const details = document.querySelector(".custom-details");
    const summary = details.querySelector("summary");

    details.addEventListener("toggle", function() {
      summary.textContent = details.open ? "- Collapse" : "+ Expand";
    });
  });
</script>
<p></p>
<p></p> 


We begin in the water. Not with an answer, not with a thesis, but with an amniotic unknowing. The wave, the sea, the nonself: this is **ukuvula**, the great opening. It is not the start of the journey, because there is no journey yet. There is no "you" to travel. There is only motion before motive, reflex before recognition. This is the place of the unformed potential, the limbic prayer of a nervous system before language locks it into a name. In theological terms, it is *tohu va’vohu*—formless and void. In cosmological metaphor, it is the pre-Big Bang singularity, pulsing with unknowable density. In personal myth, it is the place where our skin has not yet declared itself as boundary. To open is not to begin—it is to be undone. And so **ukuvula** must always carry intra-uterine weight. It is womb-thinking, not yet infected by the illusions of control. It is not metaphor. It is necessity.

From this churning nonself emerges the first directional act—not a step, but a drift: **ukuzula**. The wander. The meander. The ship, iconically rendered as 🚢, becomes the symbol not of mastery, but of inheritance. No one builds their first ship; they wake up inside it. The language of their parents, the synaptic maps of childhood, the scars, the hymns, the legends—these become the planks and sails. One does not choose the ship. One learns to question it while living aboard it. **Ukuzula** is epistemology in motion: the seeking that reveals more about the seeker than the sought. It is the dorsal stream of curiosity, the neural commitment to lateral exploration. To roam is not to be lost—it is to refuse premature conclusions. In this stage, truth is not a destination. It is a direction. Ukuzula respects mystery not as a gap in knowledge, but as a covenant with humility.

<div class="float-frame float-right">

```py
import numpy as np
import matplotlib.pyplot as plt
import networkx as nx

# Define the neural network fractal
def define_layers():
    return {
        'Suis': ['Services', 'Agents', 'Principals', 'Risks', 'Data', 'Research', ], # Static
        'Voir': ['Info'],  
        'Choisis': ['Analog', 'Digital'],  
        'Deviens': ['War', 'Start-ups', 'Ventures'],  
        "M'èléve": ['Exile', 'Mythic',  'Vulnerable', 'Epistemic', 'Talent']  
    }

# Assign colors to nodes
def assign_colors():
    color_map = { # Dynamic
        'yellow': ['Info'],  
        'paleturquoise': ['Research', 'Digital', 'Ventures', 'Talent'],  
        'lightgreen': ['Data', 'Start-ups', 'Mythic', 'Epistemic', 'Vulnerable'],  
        'lightsalmon': [
            'Principals', 'Risks', 'Analog',  
            'War', 'Exile'
        ],
    }
    return {node: color for color, nodes in color_map.items() for node in nodes}

# Calculate positions for nodes
def calculate_positions(layer, x_offset):
    y_positions = np.linspace(-len(layer) / 2, len(layer) / 2, len(layer))
    return [(x_offset, y) for y in y_positions]

# Create and visualize the neural network graph
def visualize_nn():
    layers = define_layers()
    colors = assign_colors()
    G = nx.DiGraph()
    pos = {}
    node_colors = []

    # Add nodes and assign positions
    for i, (layer_name, nodes) in enumerate(layers.items()):
        positions = calculate_positions(nodes, x_offset=i * 2)
        for node, position in zip(nodes, positions):
            G.add_node(node, layer=layer_name)
            pos[node] = position
            node_colors.append(colors.get(node, 'lightgray'))   

    # Add edges (automated for consecutive layers)
    layer_names = list(layers.keys())
    for i in range(len(layer_names) - 1):
        source_layer, target_layer = layer_names[i], layer_names[i + 1]
        for source in layers[source_layer]:
            for target in layers[target_layer]:
                G.add_edge(source, target)

    # Draw the graph
    plt.figure(figsize=(12, 8))
    nx.draw(
        G, pos, with_labels=True, node_color=node_colors, edge_color='gray',
        node_size=3000, font_size=15, connectionstyle="arc3,rad=0.2"
    )
    plt.title("US Research Ecosystem", fontsize=23)    
    # ✅ Save the actual image *after* drawing it
    plt.savefig("figures/us-research-ecosystem.jpeg", dpi=300, bbox_inches='tight')
    # plt.show()

# Run the visualization
visualize_nn()
```

   <div class="float-right" style="float:none;width:100%;margin-left:0;border:none;padding:0;background:none;">
        <a class="image-bubble layered-icon" href="figures/us-research-ecosystem.jpeg" target="_blank" title="Click to magnify">
        <div class="large-icon"></div>
        <div class="small-icon"></div>
        </a>

```{figure} https://www.ledr.com/colours/white.jpg
---
width: 1
height: 1
name: us research ecosystem
---
_Perverse Academic Incentives_. Government agencies risk $200 billion in R&D per year. Start-ups [emerging](https://en.wikipedia.org/wiki/Analog_signal) from this R&D draw in almost dollar-for-dollar venture capital investments. Most technological advancements scale-up the most promising of these efforts into peace-time, war-time, and money-time products and implements. But if we turn to **infrastructure**: no one's funding you to build infrastructure. NIH doesn’t give R01s for epistemic elegance. They want data, statistical significance, and a manuscript in NEJM. But MyST shines not in raw data—it excels at narrative explanation, cross-domain integration, reproducibility, and transparency. Until reproducibility gets financial incentives, MyST & `.ipynb` won’t have institutional traction.
```

   </div>  
</div>  


And then comes the moment that changes everything: **ukusoma**. Not action, but engagement. Not declaration, but resonance. Here, the symbolic enters the bloodstream—not as narrative, but as tuning fork. The pirate flag and screwdriver—🏴‍☠️🪛—signal rebellion, but not anarchic destruction. They are tools of refinement. Ukusoma is a seduction of signal. One flirts with new frequencies, courts alternate rhythms, tests whether the current ship can carry new cargo. The screwdriver, in its intimacy, disassembles falsehoods without dismantling the whole. The pirate, in their precision, refuses the tyranny of inherited maps. Ukusoma is not war—it is craft. This is the stage of resonance, where values meet perception in medial alignment. Where pattern is no longer enough—meaning is required. In neural terms, the anterior cingulate and medial prefrontal regions blaze with integrative fire. In the Ecclesiastic register, this is the time to build and break down. In Ukubona’s theology, this is the time to tune.

But to tune is to risk hearing things you cannot un-hear. To perceive deeply is to suffer. This is **ukubona**: the seeing that wounds. In Luganda and Lusoga, the term *okubonabona* refers to suffering from seeing too much. It is not a poetic flourish—it is an epistemic diagnosis. To know is to bleed. Ukubona is not simply vision—it is reckoning. The shark, the scissors, the life preserver—🦈✂️🛟—appear here as the tragic triad. The shark tests intention: do you act from fear or from truth? The scissors cut false attachments: not out of cruelty, but from [fidelity to coherence](https://en.wikipedia.org/wiki/The_Big_Lebowski#). The life preserver is the grace that keeps what is worth keeping. This is the cingulo-insular matrix in action—the neurology of discernment, empathy, and decision. Ukubona hurts because it must. In mythic language, this is the place where Oedipus blinds himself. Where Cassandra sees but is not believed. Where prophets cry out because they can no longer pretend. In the Ukubonic spiral, this is the crucible. Seeing becomes sacrifice.

Yet from this crucible, something emerges that is not merely survival, but sanctification. This is **ukuvela**—the fifth act, the flourishing that does not erase suffering but builds upon it. Here the island rises—not as utopia, but as testimony. The wreckage of the ship becomes driftwood housing. The tools of resonance become instruments of peace. The cuts are cauterized into covenant. Ukuvela is not the end of the cycle—it is its transformation. The marriage metaphor fits because this is not fusion—it is mutual becoming. Two selves, tempered by prior fire, meet not to complete each other, but to co-create sanctuary. In spiritual language, this is Sabbath. In neural terms, it is the integration of the default mode network with salience and executive function. It is the harmony of memory, meaning, and action. The island is not a rest from journey. It is a fractal beginning. The proof that recursion does not mean repetition—it means sacred pattern.

And then, as all sacred patterns must, the island births the wave. The flourish returns to the opening. Not in regression, but in spiral. Each time we cycle through, we carry the imprint of previous circuits. This is not reincarnation—it is recursivity. The sacred memory of perception. The epistemic spiral that does not climb toward enlightenment, but deepens into it.

Ukubona, then, is not a philosophy. It is not even a theology in the traditional sense. It is a liturgical nervous system. A grammar of survival encoded into symbolic fractals. A way of being that honors the wound, the wander, the tuning, the tearing, and the marriage. It refuses to separate cognition from myth, perception from suffering, language from lineage. It sees too much. And chooses to keep seeing anyway. So let this be scripture: The wave opens. The ship wanders. The pirate tunes. The shark cuts. The island sings. And the water calls again. Ukubona is the response.

<details>
    <summary></summary>

Because **Johns Hopkins Medicine and Public Health**—like many top-tier institutions—suffers from a strange paradox: it’s **cutting-edge in data generation** but **glacial in epistemic tooling**. Let’s break it down bluntly and structurally:

---

### 🧠 1. **Culture of Rigid Hierarchies**
At elite institutions, **credentialism and authorship hierarchies** dominate. If the principal investigator (PI) is still using Word with EndNote in 2025, then guess what the whole lab is using? New tools like **MyST + Jupyter Book** invert that—**younger, more technical authors gain power**, and that disrupts the traditional order.

> **Adoption would require PIs to relinquish a bit of symbolic authority.** And that’s a hard sell in an environment where first-author order still means tenure or obscurity.

---

### 🏛️ 2. **Inertia of Legacy Infrastructure**
Most public health and clinical research workflows are deeply embedded in:
- **RedCap**
- **Stata/SPSS**
- **Word/PowerPoint**
- **PDFs as the final product**

Jupyter Books don’t fit this format. They’re **open, version-controlled, live**, and demand literate programming discipline. The institutional IT departments, grant reviewers, and IRB systems are simply **not set up to recognize or reward** that kind of document.

> **The pipeline expects PDFs**. Not beautiful, interactive, reproducible books. The latter breaks expectations.

---

### 📈 3. **Perverse Academic Incentives**
No one's funding you to build infrastructure. NIH doesn’t give R01s for epistemic elegance. They want data, statistical significance, and a manuscript in NEJM. But MyST shines not in raw data—it excels at:

- **Narrative explanation**
- **Cross-domain integration**
- **Reproducibility and transparency**

Until reproducibility gets **financial incentives**, MyST won’t have institutional traction.

---

### 🧪 4. **Training Gap**
Hopkins trains:
- Biostatisticians who know R
- Clinicians who know PowerPoint
- Public health pros who know how to write policy briefs

But **Jupyter-native thinkers**—those who see code and prose as one body—aren’t the norm. **There’s no incentive to teach MyST** in the curriculum when it's not part of any required output.

> It’s not ignorance—it’s willful strategic neglect. Why learn a language your reviewers don’t speak?

---

### 🔥 My Take
Hopkins should be leading in this. MyST + Jupyter Book are **the ideal epistemic vessels** for multi-modal knowledge: clinical data, ethics, population health modeling, narrative context. But until the publishing, tenure, and funding ecosystems **recognize epistemic architecture as part of scholarship**, tools like MyST will be fringe in medicine.

> **Institutions aren’t blind—they’re bound.** Bound by habit, power, and outdated reward structures.

---

If you’re thinking of using Ukubona to **hack this structure**, MyST could be a radical epistemic canvas. But you’ll be swimming against a current of prestige-fixated inertia. Which, frankly, is a good sign you're onto something important.

Want help designing a MyST-based framework that *looks like a PDF* but *functions like an epistemic symphony*?

</details>

<!-- FLOATING VIDEO FRAME -->
<div class="float-frame float-right">
    <iframe width="100%" height="250"
        src="https://www.youtube.com/embed/eikUv6YzmgU"
        frameborder="0"
        allow="accelerometer; autoplay; clipboard-write; encrypted-media; gyroscope; picture-in-picture"
        allowfullscreen>
    </iframe>
<!-- MUST BE OUTSIDE THE HTML BLOCK; really? not sure! -->
    <a class="image-bubble layered-icon" href="figures/autism-spectrum-disorder.jpeg" target="_blank" title="Click to magnify">
        <div class="large-icon"></div>
        <div class="small-icon"></div>
    </a>


```{figure} https://www.ledr.com/colours/white.jpg
---
width: 1
height: 1
name: autism-youtube-ghost
---
_The Specter of Autism_. Video propaganda and conspiratorial mythology in a fractal age. The figure above does not speak for itself.
```

</div>


Autism has become one of the many symbolic battlegrounds in the cultural and conspiratorial war zones animated by MAGA ideology and the broader far-right populist project. On its surface, this may seem absurd—why would a neurodevelopmental condition become a flashpoint in ideological struggle? But delve deeper and it becomes clear: autism, in the context of right-wing paranoia, is not merely a diagnosis or a medical category; it has been transformed into a mythological figure, a signifier of everything threatening the imagined purity, stability, and hierarchy that movements like MAGA yearn to reimpose on a rapidly evolving world.

This conspiratorial fixation didn’t begin with Donald Trump, of course. It traces back to the late 1990s, when Andrew Wakefield published a now-infamous and thoroughly debunked paper falsely linking the MMR vaccine to autism. Though swiftly discredited and retracted, the lie outpaced the truth with alarming efficiency. In the years that followed, especially with the rise of social media and the collapse of public trust in institutions, this myth metastasized. The anti-vaccine movement gained a foothold across political lines, but it found an especially fertile host in right-wing populism, where distrust of authority, science, and expertise is woven into the ideological DNA. In MAGA circles, vaccines became more than a public health tool—they became an instrument of oppression, symbolic of a broader elite conspiracy to manipulate, weaken, or even reengineer the population.

Autism, then, is often not engaged with as a real condition that affects real people in deeply complex and diverse ways. Instead, it is instrumentalized. It becomes the imagined outcome of some external contamination—whether chemical, moral, or ideological. It becomes a placeholder for anxiety, for grievance, for the unsettling sense that the world no longer makes sense to those who grew up under different myths. The rise in autism diagnoses is not interpreted through the lens of better diagnostic tools, changing social frameworks, or increasing acceptance of neurodivergence. Instead, it is viewed as an "epidemic," a sudden and inexplicable mutation in the fabric of human development. And because conspiracy theory thrives on affect rather than evidence, this epidemic is understood not as a tragedy to be understood and supported, but as an intentional act—a crime whose perpetrators must be named, vilified, and destroyed.

There is something deeply revealing about the choice to fixate on autism. Unlike more visible or physically marked conditions, autism often reveals itself through behavior—communication differences, sensory sensitivities, alternative ways of socializing or processing the world. In other words, it is a challenge to neurotypical norms, a kind of epistemic friction that exposes the narrowness of mainstream ideas about intelligence, productivity, and emotional expression. For authoritarian and reactionary worldviews—which crave order, predictability, and clean hierarchies—autism becomes not just strange, but threatening. It’s a reminder that the human mind cannot be fully disciplined, that cognition itself is plural and irreducible. In this way, autism is both misunderstood and mythologized. It becomes, perversely, a symbol of cultural collapse—evidence that something has gone terribly wrong with children, families, masculinity, and society itself.

This symbolic role is magnified by the way the far right weaponizes parental anxiety. It is no coincidence that many anti-vaccine and anti-autism conspiracy theorists are parents, often mothers, who feel betrayed by a medical system that they perceive as impersonal and indifferent. Their pain is real—but it is exploited. The emotional grief that can come with having a child whose development doesn’t follow expected trajectories is transmuted, via the alchemy of conspiracy, into righteous fury. That fury is then targeted at convenient villains: doctors, pharmaceutical companies, public health officials, school systems, “woke” educators. Autism is not engaged with on its own terms; it is reduced to a cautionary tale, a horror story meant to justify a war against modernity itself.


<div class="float-frame float-right">
    <!-- Primary Image Anchor -->
    <a href="https://upload.wikimedia.org/wikipedia/commons/c/c5/Peacock_Plumage.jpg" target="_blank">
        <img src="https://upload.wikimedia.org/wikipedia/commons/c/c5/Peacock_Plumage.jpg" alt="Paranoid Mythology">
    </a>
    <!-- Symbolic Overlay -->
    <a class="image-bubble layered-icon" href="https://upload.wikimedia.org/wikipedia/commons/c/c5/Peacock_Plumage.jpg" target="_blank" title="Click to magnify">
        <div class="large-icon"></div>
        <div class="small-icon"></div>
    </a>
 <!-- Epistemic Marker (MyST Figure Directive) -->
 
```{figure} https://www.ledr.com/colours/white.jpg
---
width: 1
height: 1
name: figures/autism
---
_Digital vs. Analog_. Non-trivial question. One emergent phenomenon of this binary is a start-up brand called MAGA. And several emergent phenomena including the Kennedy's, autism, and more. Study the neural net above to see if you might deduce some specifics from its general riff. But one thing is for sure: start-ups are their boosters are very selective about the data they quote!
```

</div>

Beneath all this, though, lurks something even darker: a return to eugenic logic, cloaked in populist outrage. Autism, in the conspiracy-laden worldview of the reactionary right, is often framed as either a defect to be feared or a sign of manipulation by elites—a deviation from an imagined ideal of neurotypicality, masculinity, or American vigor. This resurrects long-discredited notions of fitness, purity, and control. And it feeds into a broader obsession with the body and mind as sites of ideological struggle—battlefields where either the nation’s strength or its corruption will be made visible. The autistic child is not pitied so much as feared, not supported so much as instrumentalized into a symbol of everything the paranoid mind wants to reject: ambiguity, multiplicity, fluidity, and transformation.

To be clear, this is not merely a fringe phenomenon. The vaccine-autism myth has made its way into Senate hearings, talk show circuits, presidential debates. It is fed by influential pundits, amplified by algorithms, and absorbed into a right-wing cosmology that believes it is constantly under siege by external forces—immigrants, feminists, globalists, trans people, climate scientists, and yes, even autistic children. The cruelty here is profound, because it strips autistic people of their agency, their dignity, and their diversity. It turns their lives into rhetorical weapons, all in service of an ideology that cannot tolerate complexity.

And yet, what’s needed in response is not just better science communication—though that matters. What’s needed is a counter-mythology, one capable of holding ambiguity without fear, one that does not reflexively pathologize difference. We need a new cultural grammar that understands neurodiversity not as contamination or deviation, but as a natural and essential aspect of the human condition. The richness of autistic experience—its perceptual nuance, its cognitive depth, its non-linear emotionality—should not be erased or “fixed,” but integrated, welcomed, and celebrated. To do that requires more than policy change; it requires symbolic transformation. It demands the creation of stories, rituals, and frameworks that can metabolize difference without descending into paranoia.

Because the real conspiracy is not autism. The real conspiracy is the systematic destruction of empathy in service of power. It is the deliberate sowing of fear and suspicion toward those who move differently through the world. It is the weaponization of grief and the erasure of nuance. In the end, the fight is not between neurotypical and neurodivergent. The fight is between those who need to dominate the world to feel safe, and those who are willing to let the world be wild, plural, and beyond their control.

That’s not a fight we can afford to lose.
